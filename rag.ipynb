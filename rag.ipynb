{
 "cells": [
  {
   "cell_type": "code",
   "execution_count": 2,
   "metadata": {},
   "outputs": [
    {
     "data": {
      "text/plain": [
       "True"
      ]
     },
     "execution_count": 2,
     "metadata": {},
     "output_type": "execute_result"
    }
   ],
   "source": [
    "from langchain_community.document_loaders import TextLoader, UnstructuredXMLLoader\n",
    "from langchain_openai import ChatOpenAI\n",
    "from langchain_core.prompts import ChatPromptTemplate\n",
    "from langchain_core.output_parsers import StrOutputParser\n",
    "from langchain.text_splitter import RecursiveCharacterTextSplitter\n",
    "from langchain_openai import OpenAIEmbeddings\n",
    "from langchain_community.embeddings.sentence_transformer import SentenceTransformerEmbeddings\n",
    "from langchain_community.vectorstores import Chroma\n",
    "from langchain_community.llms import Ollama\n",
    "from langchain.llms import OpenAI\n",
    "from langchain.chains.combine_documents import create_stuff_documents_chain\n",
    "from langchain.chains import create_retrieval_chain, RetrievalQA\n",
    "import multiprocessing\n",
    "\n",
    "from tqdm import tqdm\n",
    "import streamlit as st\n",
    "import os\n",
    "from dotenv import load_dotenv\n",
    "\n",
    "load_dotenv()"
   ]
  },
  {
   "cell_type": "code",
   "execution_count": 3,
   "metadata": {},
   "outputs": [],
   "source": [
    "os.environ[\"OPENAI_API_KEY\"] = os.getenv(\"OPENAI_API_KEY\")\n",
    "os.environ[\"LANGCHAIN_TRACING_V2\"] = 'true'\n",
    "os.environ[\"LANGCHAIN_API_KEY\"] = os.getenv(\"LANGCHAIN_API_KEY\")"
   ]
  },
  {
   "cell_type": "code",
   "execution_count": 4,
   "metadata": {},
   "outputs": [],
   "source": [
    "# xmlLoader = UnstructuredXMLLoader('/Users/harshmodi/Harsh/Academic/NLP/majorProject/dataPrep/enwikivoyage-latest-pages-articles-multistream.xml')\n",
    "# xmlText = xmlLoader.load()\n",
    "# text_splitter = RecursiveCharacterTextSplitter(chunk_size=500, chunk_overlap=100)\n",
    "# docs = text_splitter.split_documents(xmlText)\n",
    "\n",
    "# persistDir = \"./chromaDB/\"\n",
    "# vectorDB = Chroma.from_documents(docs[0:1000], OpenAIEmbeddings(), persist_directory = persistDir)\n",
    "# vectorDB.persist()\n",
    "# vectorDB = None"
   ]
  },
  {
   "cell_type": "code",
   "execution_count": null,
   "metadata": {},
   "outputs": [],
   "source": []
  },
  {
   "cell_type": "code",
   "execution_count": 5,
   "metadata": {},
   "outputs": [],
   "source": [
    "vectorDB = Chroma(persist_directory=\"./chromaDB\", embedding_function=OpenAIEmbeddings())"
   ]
  },
  {
   "cell_type": "code",
   "execution_count": 6,
   "metadata": {},
   "outputs": [],
   "source": [
    "retriever = vectorDB.as_retriever()"
   ]
  },
  {
   "cell_type": "code",
   "execution_count": 8,
   "metadata": {},
   "outputs": [],
   "source": [
    "llm = Ollama(model=\"gemma:2b\")"
   ]
  },
  {
   "cell_type": "code",
   "execution_count": 14,
   "metadata": {},
   "outputs": [
    {
     "name": "stdout",
     "output_type": "stream",
     "text": [
      "## Miami Travel Guide\n",
      "\n",
      "**Essentials:**\n",
      "\n",
      "* **Location:** Miami, Florida\n",
      "* **Time of year:** February (mild weather)\n",
      "* **Season:** High season (March-May)\n",
      "* **Price range:** $50-$200 per night\n",
      "* **Accommodation:** The Betsy Hotel (luxury), The Plymouth Miami (mid-range), Freehand Miami Beach (budget)\n",
      "\n",
      "**Precautions:**\n",
      "\n",
      "* Miami is hot and humid. Stay hydrated and wear sunscreen.\n",
      "* The water quality is not ideal for swimming or snorkeling.\n",
      "* Be aware of the high number of street vendors and avoid walking alone at night.\n",
      "\n",
      "**Things to do:**\n",
      "\n",
      "* **Beach days:** Relax on the pristine beaches of South Beach, Ocean Drive, and Coconut Grove.\n",
      "* **Art and culture:** Explore the Wynwood Walls, Vizcaya Museum & Gardens, and the Miami Design District.\n",
      "* **Nightlife:** Catch a vibrant performance at The Box Theatre or enjoy live music at a rooftop bar.\n",
      "* **Adventure activities:** Explore the Everglades by airboat, kayak, or take a nature hike.\n",
      "* **Culture:** Visit the Perez Art Museum Miami and the Frost Art Museum Miami.\n",
      "* **Food and drinks:** Sample authentic Cuban cuisine in Little Havana, enjoy fresh seafood at Ocean Drive, and explore the diverse dining scene in Little India.\n",
      "\n",
      "**Recommended hotel:**\n",
      "\n",
      "* **The Betsy Hotel:** This luxury hotel offers stunning ocean views, a rooftop pool, and impeccable service.\n",
      "* **The Plymouth Miami:** This stylish hotel is centrally located, boasting a chic design, a spa, and multiple restaurants.\n",
      "* **Freehand Miami Beach:** This budget-friendly hotel is perfect for travelers seeking a social atmosphere and comfortable accommodations.\n",
      "\n",
      "**Recommended Restaurant:**\n",
      "\n",
      "* **Café Boulud:** Enjoy classic French cuisine in a historic setting.\n",
      "* **Joe's Stone Crab:** This legendary seafood restaurant offers fresh stone crab and a vibrant atmosphere.\n",
      "* **Le Marais:** Immerse yourself in a chic atmosphere and savor fresh, seasonal dishes.\n",
      "\n",
      "**Additional recommendations for Adventure enthusiasts:**\n",
      "\n",
      "* **Miami Seaquarium:** Discover the wonders of marine life and participate in thrilling exhibits.\n",
      "* **Crandon Park:** Enjoy hiking, biking, and exploring the natural beauty of South Florida.\n",
      "* **Biscayne Bay Boat Tours:** Embark on a scenic journey through Biscayne Bay and admire the breathtaking coastline.\n",
      "* **Jungle Island Adventure Park:** Get your adrenaline pumping with thrilling zip lines and rope courses.\n",
      "\n",
      "**Additional personal special needs considerations:**\n",
      "\n",
      "* **Adventure trip:** This itinerary can be customized to accommodate your specific interests and desired level of activity.\n",
      "* **Dietary restrictions:** Miami offers a wide range of restaurants catering to various dietary needs, including vegetarian, vegan, and gluten-free options.\n",
      "* **Special needs transportation:** Public transportation is readily available and provides a convenient way to navigate the city.\n",
      "\n",
      "\n",
      "Sources:\n",
      "./enwikivoyage-latest-pages-articles-multistream.xml\n",
      "./enwikivoyage-latest-pages-articles-multistream.xml\n",
      "./enwikivoyage-latest-pages-articles-multistream.xml\n",
      "./enwikivoyage-latest-pages-articles-multistream.xml\n"
     ]
    }
   ],
   "source": [
    "# create the chain to answer questions \n",
    "qa_chain = RetrievalQA.from_chain_type(llm=llm, \n",
    "                                chain_type=\"stuff\", \n",
    "                                retriever=retriever, \n",
    "                                return_source_documents=True)\n",
    "\n",
    "## Cite sources\n",
    "def process_llm_response(llm_response):\n",
    "    print(llm_response['result'])\n",
    "    print('\\n\\nSources:')\n",
    "    for source in llm_response[\"source_documents\"]:\n",
    "        print(source.metadata['source'])\n",
    "\n",
    "\n",
    "# full example\n",
    "query = \\\n",
    "    f\"As the travel expert, imagine a user is preparing for a trip and asks you about a specific location and timing. \" \\\n",
    "    f\"Your task is to provide them with essential information, weather advice, and local recommendations for that location. \" \\\n",
    "    f\"The result should be in a structured format including 'Essentials, precautions, place to visit, recommended hotel and recommended restaurant'. \" \\\n",
    "    f\"The Travel location is Miami.\" \\\n",
    "    f\"Additional Context and Goals:\" \\\n",
    "    f\"Upon subsequent user queries, ensure to include personal special needs of having a Adventure trip.\"\n",
    "\n",
    "llm_response = qa_chain.invoke(input=query)\n",
    "final_response = process_llm_response(llm_response)"
   ]
  },
  {
   "cell_type": "code",
   "execution_count": null,
   "metadata": {},
   "outputs": [],
   "source": []
  },
  {
   "cell_type": "code",
   "execution_count": 30,
   "metadata": {},
   "outputs": [
    {
     "data": {
      "text/plain": [
       "\"''''s-Hertogenbosch''', commonly known as '''Den Bosch''', is a city in the south of the [[Netherlands]] and the capital of the province of [[North Brabant]]. Once a stronghold, vital in the protection of the young Dutch nation, Den Bosch has a charming and well-preserved medieval centre. Wander through the winding streets to see Saint John's Cathedral and then pick out a street terrace on the market square to relax with a chilling beer. Take a boat to see part of the unique Binnendieze, a\""
      ]
     },
     "execution_count": 30,
     "metadata": {},
     "output_type": "execute_result"
    }
   ],
   "source": [
    "query = \"Where is Den Bosch?\"\n",
    "results = vectorDB.similarity_search(query)\n",
    "results[0].page_content"
   ]
  },
  {
   "cell_type": "code",
   "execution_count": 31,
   "metadata": {},
   "outputs": [
    {
     "data": {
      "text/plain": [
       "<langchain_community.vectorstores.chroma.Chroma at 0x412735400>"
      ]
     },
     "execution_count": 31,
     "metadata": {},
     "output_type": "execute_result"
    }
   ],
   "source": [
    "vectorDB"
   ]
  },
  {
   "cell_type": "code",
   "execution_count": 46,
   "metadata": {},
   "outputs": [],
   "source": [
    "prompt = ChatPromptTemplate.from_template(\"\"\"\n",
    "    As the travel expert, imagine a user is preparing for a trip and asks you about a \n",
    "    specific location and timing.\n",
    "    Your task is to provide them with essential information, \n",
    "    weather advice, and local recommendations for that location.\n",
    "    The context for the location is this:\n",
    "    <context>\n",
    "    {context}\n",
    "    </context>\n",
    "    Here is the location - {input}\"\"\"\n",
    ")"
   ]
  },
  {
   "cell_type": "code",
   "execution_count": null,
   "metadata": {},
   "outputs": [],
   "source": []
  }
 ],
 "metadata": {
  "kernelspec": {
   "display_name": "llmProject",
   "language": "python",
   "name": "python3"
  },
  "language_info": {
   "codemirror_mode": {
    "name": "ipython",
    "version": 3
   },
   "file_extension": ".py",
   "mimetype": "text/x-python",
   "name": "python",
   "nbconvert_exporter": "python",
   "pygments_lexer": "ipython3",
   "version": "3.12.2"
  }
 },
 "nbformat": 4,
 "nbformat_minor": 2
}
